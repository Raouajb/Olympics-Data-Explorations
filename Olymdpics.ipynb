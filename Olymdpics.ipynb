{
 "cells": [
  {
   "cell_type": "code",
   "execution_count": 83,
   "metadata": {},
   "outputs": [],
   "source": [
    "# Importer la bibliothèque pandas avec l'alias pd\n",
    "import pandas as pd"
   ]
  },
  {
   "cell_type": "code",
   "execution_count": 99,
   "metadata": {},
   "outputs": [],
   "source": [
    "# Load the dataset :\n",
    "df = pd.read_csv('Data/athlete_events.csv')\n",
    "df.shape()"
   ]
  },
  {
   "cell_type": "code",
   "execution_count": 85,
   "metadata": {},
   "outputs": [
    {
     "data": {
      "text/plain": [
       "(271116, 15)"
      ]
     },
     "execution_count": 85,
     "metadata": {},
     "output_type": "execute_result"
    }
   ],
   "source": [
    "# determine the size of the  DataFrame (number of rows and columns ) : \n",
    "df.shape"
   ]
  },
  {
   "cell_type": "code",
   "execution_count": 86,
   "metadata": {},
   "outputs": [
    {
     "name": "stdout",
     "output_type": "stream",
     "text": [
      "<class 'pandas.core.frame.DataFrame'>\n",
      "RangeIndex: 271116 entries, 0 to 271115\n",
      "Data columns (total 15 columns):\n",
      " #   Column  Non-Null Count   Dtype  \n",
      "---  ------  --------------   -----  \n",
      " 0   id      271116 non-null  int64  \n",
      " 1   name    271116 non-null  object \n",
      " 2   sex     271116 non-null  object \n",
      " 3   age     261642 non-null  float64\n",
      " 4   height  210945 non-null  float64\n",
      " 5   weight  208241 non-null  float64\n",
      " 6   team    271116 non-null  object \n",
      " 7   noc     271116 non-null  object \n",
      " 8   games   271116 non-null  object \n",
      " 9   year    271116 non-null  int64  \n",
      " 10  season  271116 non-null  object \n",
      " 11  city    271116 non-null  object \n",
      " 12  sport   271116 non-null  object \n",
      " 13  event   271116 non-null  object \n",
      " 14  medal   39783 non-null   object \n",
      "dtypes: float64(3), int64(2), object(10)\n",
      "memory usage: 31.0+ MB\n"
     ]
    }
   ],
   "source": [
    "#  obtain a concise summary of a DataFrame's structure and content : \n",
    "df.info()"
   ]
  },
  {
   "cell_type": "code",
   "execution_count": 87,
   "metadata": {},
   "outputs": [
    {
     "data": {
      "text/html": [
       "<div>\n",
       "<style scoped>\n",
       "    .dataframe tbody tr th:only-of-type {\n",
       "        vertical-align: middle;\n",
       "    }\n",
       "\n",
       "    .dataframe tbody tr th {\n",
       "        vertical-align: top;\n",
       "    }\n",
       "\n",
       "    .dataframe thead th {\n",
       "        text-align: right;\n",
       "    }\n",
       "</style>\n",
       "<table border=\"1\" class=\"dataframe\">\n",
       "  <thead>\n",
       "    <tr style=\"text-align: right;\">\n",
       "      <th></th>\n",
       "      <th>id</th>\n",
       "      <th>name</th>\n",
       "      <th>sex</th>\n",
       "      <th>age</th>\n",
       "      <th>height</th>\n",
       "      <th>weight</th>\n",
       "      <th>team</th>\n",
       "      <th>noc</th>\n",
       "      <th>games</th>\n",
       "      <th>year</th>\n",
       "      <th>season</th>\n",
       "      <th>city</th>\n",
       "      <th>sport</th>\n",
       "      <th>event</th>\n",
       "      <th>medal</th>\n",
       "    </tr>\n",
       "  </thead>\n",
       "  <tbody>\n",
       "    <tr>\n",
       "      <th>271113</th>\n",
       "      <td>135570</td>\n",
       "      <td>Piotr ya</td>\n",
       "      <td>M</td>\n",
       "      <td>27.0</td>\n",
       "      <td>176.0</td>\n",
       "      <td>59.0</td>\n",
       "      <td>Poland</td>\n",
       "      <td>POL</td>\n",
       "      <td>2014 Winter</td>\n",
       "      <td>2014</td>\n",
       "      <td>Winter</td>\n",
       "      <td>Sochi</td>\n",
       "      <td>Ski Jumping</td>\n",
       "      <td>Ski Jumping Men's Large Hill, Team</td>\n",
       "      <td>NaN</td>\n",
       "    </tr>\n",
       "    <tr>\n",
       "      <th>271114</th>\n",
       "      <td>135571</td>\n",
       "      <td>Tomasz Ireneusz ya</td>\n",
       "      <td>M</td>\n",
       "      <td>30.0</td>\n",
       "      <td>185.0</td>\n",
       "      <td>96.0</td>\n",
       "      <td>Poland</td>\n",
       "      <td>POL</td>\n",
       "      <td>1998 Winter</td>\n",
       "      <td>1998</td>\n",
       "      <td>Winter</td>\n",
       "      <td>Nagano</td>\n",
       "      <td>Bobsleigh</td>\n",
       "      <td>Bobsleigh Men's Four</td>\n",
       "      <td>NaN</td>\n",
       "    </tr>\n",
       "    <tr>\n",
       "      <th>271115</th>\n",
       "      <td>135571</td>\n",
       "      <td>Tomasz Ireneusz ya</td>\n",
       "      <td>M</td>\n",
       "      <td>34.0</td>\n",
       "      <td>185.0</td>\n",
       "      <td>96.0</td>\n",
       "      <td>Poland</td>\n",
       "      <td>POL</td>\n",
       "      <td>2002 Winter</td>\n",
       "      <td>2002</td>\n",
       "      <td>Winter</td>\n",
       "      <td>Salt Lake City</td>\n",
       "      <td>Bobsleigh</td>\n",
       "      <td>Bobsleigh Men's Four</td>\n",
       "      <td>NaN</td>\n",
       "    </tr>\n",
       "  </tbody>\n",
       "</table>\n",
       "</div>"
      ],
      "text/plain": [
       "            id                name sex   age  height  weight    team  noc  \\\n",
       "271113  135570            Piotr ya   M  27.0   176.0    59.0  Poland  POL   \n",
       "271114  135571  Tomasz Ireneusz ya   M  30.0   185.0    96.0  Poland  POL   \n",
       "271115  135571  Tomasz Ireneusz ya   M  34.0   185.0    96.0  Poland  POL   \n",
       "\n",
       "              games  year  season            city        sport  \\\n",
       "271113  2014 Winter  2014  Winter           Sochi  Ski Jumping   \n",
       "271114  1998 Winter  1998  Winter          Nagano    Bobsleigh   \n",
       "271115  2002 Winter  2002  Winter  Salt Lake City    Bobsleigh   \n",
       "\n",
       "                                     event medal  \n",
       "271113  Ski Jumping Men's Large Hill, Team   NaN  \n",
       "271114                Bobsleigh Men's Four   NaN  \n",
       "271115                Bobsleigh Men's Four   NaN  "
      ]
     },
     "execution_count": 87,
     "metadata": {},
     "output_type": "execute_result"
    }
   ],
   "source": [
    "#  display the last 3 rows of a DataFrame :\n",
    "df.tail(3) "
   ]
  },
  {
   "cell_type": "code",
   "execution_count": 88,
   "metadata": {},
   "outputs": [
    {
     "name": "stdout",
     "output_type": "stream",
     "text": [
      "Index(['id', 'name', 'sex', 'age', 'height', 'weight', 'team', 'noc', 'games',\n",
      "       'year', 'season', 'city', 'sport', 'event', 'medal'],\n",
      "      dtype='object')\n"
     ]
    }
   ],
   "source": [
    "# check the column names  : \n",
    "print(df.columns)"
   ]
  },
  {
   "attachments": {},
   "cell_type": "markdown",
   "metadata": {},
   "source": [
    "1. which year and city did the Netherlands win the highest number of medals in their history?"
   ]
  },
  {
   "cell_type": "code",
   "execution_count": 89,
   "metadata": {},
   "outputs": [
    {
     "data": {
      "text/html": [
       "<div>\n",
       "<style scoped>\n",
       "    .dataframe tbody tr th:only-of-type {\n",
       "        vertical-align: middle;\n",
       "    }\n",
       "\n",
       "    .dataframe tbody tr th {\n",
       "        vertical-align: top;\n",
       "    }\n",
       "\n",
       "    .dataframe thead th {\n",
       "        text-align: right;\n",
       "    }\n",
       "</style>\n",
       "<table border=\"1\" class=\"dataframe\">\n",
       "  <thead>\n",
       "    <tr style=\"text-align: right;\">\n",
       "      <th></th>\n",
       "      <th>id</th>\n",
       "      <th>name</th>\n",
       "      <th>sex</th>\n",
       "      <th>age</th>\n",
       "      <th>height</th>\n",
       "      <th>weight</th>\n",
       "      <th>team</th>\n",
       "      <th>noc</th>\n",
       "      <th>games</th>\n",
       "      <th>year</th>\n",
       "      <th>season</th>\n",
       "      <th>city</th>\n",
       "      <th>sport</th>\n",
       "      <th>event</th>\n",
       "      <th>medal</th>\n",
       "    </tr>\n",
       "  </thead>\n",
       "  <tbody>\n",
       "    <tr>\n",
       "      <th>4</th>\n",
       "      <td>5</td>\n",
       "      <td>Christine Jacoba Aaftink</td>\n",
       "      <td>F</td>\n",
       "      <td>21.0</td>\n",
       "      <td>185.0</td>\n",
       "      <td>82.0</td>\n",
       "      <td>Netherlands</td>\n",
       "      <td>NED</td>\n",
       "      <td>1988 Winter</td>\n",
       "      <td>1988</td>\n",
       "      <td>Winter</td>\n",
       "      <td>Calgary</td>\n",
       "      <td>Speed Skating</td>\n",
       "      <td>Speed Skating Women's 500 metres</td>\n",
       "      <td>NaN</td>\n",
       "    </tr>\n",
       "    <tr>\n",
       "      <th>5</th>\n",
       "      <td>5</td>\n",
       "      <td>Christine Jacoba Aaftink</td>\n",
       "      <td>F</td>\n",
       "      <td>21.0</td>\n",
       "      <td>185.0</td>\n",
       "      <td>82.0</td>\n",
       "      <td>Netherlands</td>\n",
       "      <td>NED</td>\n",
       "      <td>1988 Winter</td>\n",
       "      <td>1988</td>\n",
       "      <td>Winter</td>\n",
       "      <td>Calgary</td>\n",
       "      <td>Speed Skating</td>\n",
       "      <td>Speed Skating Women's 1,000 metres</td>\n",
       "      <td>NaN</td>\n",
       "    </tr>\n",
       "  </tbody>\n",
       "</table>\n",
       "</div>"
      ],
      "text/plain": [
       "   id                      name sex   age  height  weight         team  noc  \\\n",
       "4   5  Christine Jacoba Aaftink   F  21.0   185.0    82.0  Netherlands  NED   \n",
       "5   5  Christine Jacoba Aaftink   F  21.0   185.0    82.0  Netherlands  NED   \n",
       "\n",
       "         games  year  season     city          sport  \\\n",
       "4  1988 Winter  1988  Winter  Calgary  Speed Skating   \n",
       "5  1988 Winter  1988  Winter  Calgary  Speed Skating   \n",
       "\n",
       "                                event medal  \n",
       "4    Speed Skating Women's 500 metres   NaN  \n",
       "5  Speed Skating Women's 1,000 metres   NaN  "
      ]
     },
     "execution_count": 89,
     "metadata": {},
     "output_type": "execute_result"
    }
   ],
   "source": [
    "#Create a new DataFrame that includes only the rows where the team is \"Netherlands\" and the medal is not \"NA.\"\n",
    "netherlands_df = df[(df['team'] == 'Netherlands') & (df['medal'] != 'NA')]\n",
    "netherlands_df.head(2)"
   ]
  },
  {
   "cell_type": "code",
   "execution_count": 93,
   "metadata": {},
   "outputs": [
    {
     "name": "stdout",
     "output_type": "stream",
     "text": [
      "The Netherlands won the highest number of medals in their history in the year 1928 in the city of Amsterdam.\n"
     ]
    }
   ],
   "source": [
    "#Group the filtered DataFrame by the \"year\" and \"city\" columns and count the number of medals won in each year and city.\n",
    "medal_counts = netherlands_df.groupby(['year', 'city']).size().reset_index(name='medal_count')\n",
    "\n",
    "# Find the year and city with the highest medal count :\n",
    "highest_medals = medal_counts.sort_values('medal_count', ascending=False).iloc[0]\n",
    "\n",
    "#Extract the year and city information: Get the \"year\" and \"city\" values from the highest_medals row.\n",
    "highest_year = highest_medals['year']\n",
    "highest_city = highest_medals['city']\n",
    "\n",
    "#Print the results:\n",
    "print(f\"The Netherlands won the highest number of medals in their history in the year {highest_year} in the city of {highest_city}.\")\n"
   ]
  },
  {
   "attachments": {},
   "cell_type": "markdown",
   "metadata": {},
   "source": [
    "2. Filter the dataset specifically for the United States, Winter season, and the year 1980"
   ]
  },
  {
   "cell_type": "code",
   "execution_count": 90,
   "metadata": {},
   "outputs": [
    {
     "data": {
      "text/html": [
       "<div>\n",
       "<style scoped>\n",
       "    .dataframe tbody tr th:only-of-type {\n",
       "        vertical-align: middle;\n",
       "    }\n",
       "\n",
       "    .dataframe tbody tr th {\n",
       "        vertical-align: top;\n",
       "    }\n",
       "\n",
       "    .dataframe thead th {\n",
       "        text-align: right;\n",
       "    }\n",
       "</style>\n",
       "<table border=\"1\" class=\"dataframe\">\n",
       "  <thead>\n",
       "    <tr style=\"text-align: right;\">\n",
       "      <th></th>\n",
       "      <th>id</th>\n",
       "      <th>name</th>\n",
       "      <th>sex</th>\n",
       "      <th>age</th>\n",
       "      <th>height</th>\n",
       "      <th>weight</th>\n",
       "      <th>team</th>\n",
       "      <th>noc</th>\n",
       "      <th>games</th>\n",
       "      <th>year</th>\n",
       "      <th>season</th>\n",
       "      <th>city</th>\n",
       "      <th>sport</th>\n",
       "      <th>event</th>\n",
       "      <th>medal</th>\n",
       "    </tr>\n",
       "  </thead>\n",
       "  <tbody>\n",
       "    <tr>\n",
       "      <th>1691</th>\n",
       "      <td>938</td>\n",
       "      <td>Cary Glen Adgate</td>\n",
       "      <td>M</td>\n",
       "      <td>26.0</td>\n",
       "      <td>173.0</td>\n",
       "      <td>74.0</td>\n",
       "      <td>United States</td>\n",
       "      <td>USA</td>\n",
       "      <td>1980 Winter</td>\n",
       "      <td>1980</td>\n",
       "      <td>Winter</td>\n",
       "      <td>Lake Placid</td>\n",
       "      <td>Alpine Skiing</td>\n",
       "      <td>Alpine Skiing Men's Giant Slalom</td>\n",
       "      <td>NaN</td>\n",
       "    </tr>\n",
       "    <tr>\n",
       "      <th>5010</th>\n",
       "      <td>2856</td>\n",
       "      <td>Lisa-Marie Allen</td>\n",
       "      <td>F</td>\n",
       "      <td>19.0</td>\n",
       "      <td>NaN</td>\n",
       "      <td>NaN</td>\n",
       "      <td>United States</td>\n",
       "      <td>USA</td>\n",
       "      <td>1980 Winter</td>\n",
       "      <td>1980</td>\n",
       "      <td>Winter</td>\n",
       "      <td>Lake Placid</td>\n",
       "      <td>Figure Skating</td>\n",
       "      <td>Figure Skating Women's Singles</td>\n",
       "      <td>NaN</td>\n",
       "    </tr>\n",
       "    <tr>\n",
       "      <th>6839</th>\n",
       "      <td>3837</td>\n",
       "      <td>Karl Ruben Anderson</td>\n",
       "      <td>M</td>\n",
       "      <td>26.0</td>\n",
       "      <td>173.0</td>\n",
       "      <td>78.0</td>\n",
       "      <td>United States</td>\n",
       "      <td>USA</td>\n",
       "      <td>1980 Winter</td>\n",
       "      <td>1980</td>\n",
       "      <td>Winter</td>\n",
       "      <td>Lake Placid</td>\n",
       "      <td>Alpine Skiing</td>\n",
       "      <td>Alpine Skiing Men's Downhill</td>\n",
       "      <td>NaN</td>\n",
       "    </tr>\n",
       "  </tbody>\n",
       "</table>\n",
       "</div>"
      ],
      "text/plain": [
       "        id                 name sex   age  height  weight           team  noc  \\\n",
       "1691   938     Cary Glen Adgate   M  26.0   173.0    74.0  United States  USA   \n",
       "5010  2856     Lisa-Marie Allen   F  19.0     NaN     NaN  United States  USA   \n",
       "6839  3837  Karl Ruben Anderson   M  26.0   173.0    78.0  United States  USA   \n",
       "\n",
       "            games  year  season         city           sport  \\\n",
       "1691  1980 Winter  1980  Winter  Lake Placid   Alpine Skiing   \n",
       "5010  1980 Winter  1980  Winter  Lake Placid  Figure Skating   \n",
       "6839  1980 Winter  1980  Winter  Lake Placid   Alpine Skiing   \n",
       "\n",
       "                                 event medal  \n",
       "1691  Alpine Skiing Men's Giant Slalom   NaN  \n",
       "5010    Figure Skating Women's Singles   NaN  \n",
       "6839      Alpine Skiing Men's Downhill   NaN  "
      ]
     },
     "execution_count": 90,
     "metadata": {},
     "output_type": "execute_result"
    }
   ],
   "source": [
    "df[(df[\"team\"]==\"United States\") & (df[\"season\"]==\"Winter\") & (df[\"year\"]==1980)].head(3)"
   ]
  },
  {
   "attachments": {},
   "cell_type": "markdown",
   "metadata": {},
   "source": [
    "3. Germany's performance in winning gold medals."
   ]
  },
  {
   "cell_type": "code",
   "execution_count": 94,
   "metadata": {},
   "outputs": [
    {
     "data": {
      "text/html": [
       "<div>\n",
       "<style scoped>\n",
       "    .dataframe tbody tr th:only-of-type {\n",
       "        vertical-align: middle;\n",
       "    }\n",
       "\n",
       "    .dataframe tbody tr th {\n",
       "        vertical-align: top;\n",
       "    }\n",
       "\n",
       "    .dataframe thead th {\n",
       "        text-align: right;\n",
       "    }\n",
       "</style>\n",
       "<table border=\"1\" class=\"dataframe\">\n",
       "  <thead>\n",
       "    <tr style=\"text-align: right;\">\n",
       "      <th></th>\n",
       "      <th>id</th>\n",
       "      <th>name</th>\n",
       "      <th>sex</th>\n",
       "      <th>age</th>\n",
       "      <th>height</th>\n",
       "      <th>weight</th>\n",
       "      <th>team</th>\n",
       "      <th>noc</th>\n",
       "      <th>games</th>\n",
       "      <th>year</th>\n",
       "      <th>season</th>\n",
       "      <th>city</th>\n",
       "      <th>sport</th>\n",
       "      <th>event</th>\n",
       "      <th>medal</th>\n",
       "    </tr>\n",
       "  </thead>\n",
       "  <tbody>\n",
       "    <tr>\n",
       "      <th>1533</th>\n",
       "      <td>849</td>\n",
       "      <td>Filip Kamil Adamski</td>\n",
       "      <td>M</td>\n",
       "      <td>29.0</td>\n",
       "      <td>189.0</td>\n",
       "      <td>87.0</td>\n",
       "      <td>Germany</td>\n",
       "      <td>GER</td>\n",
       "      <td>2012 Summer</td>\n",
       "      <td>2012</td>\n",
       "      <td>Summer</td>\n",
       "      <td>London</td>\n",
       "      <td>Rowing</td>\n",
       "      <td>Rowing Men's Coxed Eights</td>\n",
       "      <td>Gold</td>\n",
       "    </tr>\n",
       "    <tr>\n",
       "      <th>1534</th>\n",
       "      <td>850</td>\n",
       "      <td>Herbert Adamski</td>\n",
       "      <td>M</td>\n",
       "      <td>26.0</td>\n",
       "      <td>NaN</td>\n",
       "      <td>NaN</td>\n",
       "      <td>Germany</td>\n",
       "      <td>GER</td>\n",
       "      <td>1936 Summer</td>\n",
       "      <td>1936</td>\n",
       "      <td>Summer</td>\n",
       "      <td>Berlin</td>\n",
       "      <td>Rowing</td>\n",
       "      <td>Rowing Men's Coxed Pairs</td>\n",
       "      <td>Gold</td>\n",
       "    </tr>\n",
       "  </tbody>\n",
       "</table>\n",
       "</div>"
      ],
      "text/plain": [
       "       id                 name sex   age  height  weight     team  noc  \\\n",
       "1533  849  Filip Kamil Adamski   M  29.0   189.0    87.0  Germany  GER   \n",
       "1534  850      Herbert Adamski   M  26.0     NaN     NaN  Germany  GER   \n",
       "\n",
       "            games  year  season    city   sport                      event  \\\n",
       "1533  2012 Summer  2012  Summer  London  Rowing  Rowing Men's Coxed Eights   \n",
       "1534  1936 Summer  1936  Summer  Berlin  Rowing   Rowing Men's Coxed Pairs   \n",
       "\n",
       "     medal  \n",
       "1533  Gold  \n",
       "1534  Gold  "
      ]
     },
     "execution_count": 94,
     "metadata": {},
     "output_type": "execute_result"
    }
   ],
   "source": [
    "df_germany= df[(df[\"team\"]==\"Germany\")&(df[\"medal\"]==\"Gold\")]\n",
    "df_germany.head(2)\n"
   ]
  },
  {
   "attachments": {},
   "cell_type": "markdown",
   "metadata": {},
   "source": [
    "4. analyzing the medal counts for each team (country) : (top 5)"
   ]
  },
  {
   "cell_type": "code",
   "execution_count": 92,
   "metadata": {},
   "outputs": [
    {
     "data": {
      "text/html": [
       "<div>\n",
       "<style scoped>\n",
       "    .dataframe tbody tr th:only-of-type {\n",
       "        vertical-align: middle;\n",
       "    }\n",
       "\n",
       "    .dataframe tbody tr th {\n",
       "        vertical-align: top;\n",
       "    }\n",
       "\n",
       "    .dataframe thead th {\n",
       "        text-align: right;\n",
       "    }\n",
       "</style>\n",
       "<table border=\"1\" class=\"dataframe\">\n",
       "  <thead>\n",
       "    <tr style=\"text-align: right;\">\n",
       "      <th></th>\n",
       "      <th>team</th>\n",
       "      <th>Bronze</th>\n",
       "      <th>Gold</th>\n",
       "      <th>Silver</th>\n",
       "      <th>Total</th>\n",
       "    </tr>\n",
       "  </thead>\n",
       "  <tbody>\n",
       "    <tr>\n",
       "      <th>462</th>\n",
       "      <td>United States</td>\n",
       "      <td>1233</td>\n",
       "      <td>2474</td>\n",
       "      <td>1512</td>\n",
       "      <td>5219</td>\n",
       "    </tr>\n",
       "    <tr>\n",
       "      <th>403</th>\n",
       "      <td>Soviet Union</td>\n",
       "      <td>677</td>\n",
       "      <td>1058</td>\n",
       "      <td>716</td>\n",
       "      <td>2451</td>\n",
       "    </tr>\n",
       "    <tr>\n",
       "      <th>165</th>\n",
       "      <td>Germany</td>\n",
       "      <td>678</td>\n",
       "      <td>679</td>\n",
       "      <td>627</td>\n",
       "      <td>1984</td>\n",
       "    </tr>\n",
       "    <tr>\n",
       "      <th>215</th>\n",
       "      <td>Italy</td>\n",
       "      <td>484</td>\n",
       "      <td>535</td>\n",
       "      <td>508</td>\n",
       "      <td>1527</td>\n",
       "    </tr>\n",
       "    <tr>\n",
       "      <th>171</th>\n",
       "      <td>Great Britain</td>\n",
       "      <td>572</td>\n",
       "      <td>519</td>\n",
       "      <td>582</td>\n",
       "      <td>1673</td>\n",
       "    </tr>\n",
       "  </tbody>\n",
       "</table>\n",
       "</div>"
      ],
      "text/plain": [
       "              team  Bronze  Gold  Silver  Total\n",
       "462  United States    1233  2474    1512   5219\n",
       "403   Soviet Union     677  1058     716   2451\n",
       "165        Germany     678   679     627   1984\n",
       "215          Italy     484   535     508   1527\n",
       "171  Great Britain     572   519     582   1673"
      ]
     },
     "execution_count": 92,
     "metadata": {},
     "output_type": "execute_result"
    }
   ],
   "source": [
    "pivot_country = df.pivot_table(index=\"team\", columns=\"medal\", aggfunc=({\"medal\":\"count\"}), fill_value=0)\n",
    "pivot_country.columns = pivot_country.columns.droplevel(0)\n",
    "pivot_country = pivot_country.reset_index().rename_axis(None, axis=1)\n",
    "pivot_country[\"Total\"] = pivot_country.Bronze + pivot_country.Gold + pivot_country.Silver\n",
    "pc_head = pivot_country.sort_values(by=[\"Gold\",\"Silver\",\"Bronze\"], ascending=[False, False, False]).head()\n",
    "pc_head"
   ]
  },
  {
   "attachments": {},
   "cell_type": "markdown",
   "metadata": {},
   "source": [
    "5. analyze performance by country and identify the most successful countries in the history of the Olympic Games"
   ]
  },
  {
   "cell_type": "code",
   "execution_count": 31,
   "metadata": {},
   "outputs": [
    {
     "name": "stdout",
     "output_type": "stream",
     "text": [
      "Top 5 countries with the highest medal counts:\n",
      "United States: 5219 medals\n",
      "Soviet Union: 2451 medals\n",
      "Germany: 1984 medals\n",
      "Great Britain: 1673 medals\n",
      "France: 1550 medals\n"
     ]
    }
   ],
   "source": [
    "# Filter the DataFrame : include only rows with medals (excluding rows with 'NA' in the 'medal' column) :\n",
    "medal_df = df[df['medal'] != 'NA']\n",
    "\n",
    "# Group the filtered DataFrame by the 'team' :\n",
    "country_medal_counts = medal_df.groupby('team')['medal'].count().reset_index(name='medal_count')\n",
    "\n",
    "#Sort the country_medal_counts DataFrame in descending order based on the 'medal_count' column to identify the most successful countries.\n",
    "sorted_countries = country_medal_counts.sort_values('medal_count', ascending=False)\n",
    "\n",
    "# Print the results : \n",
    "num_countries = 5  # Number of top countries to display\n",
    "top_countries = sorted_countries.head(num_countries)\n",
    "\n",
    "print(f\"Top {num_countries} countries with the highest medal counts:\")\n",
    "for index, row in top_countries.iterrows():\n",
    "    country = row['team']\n",
    "    medal_count = row['medal_count']\n",
    "    print(f\"{country}: {medal_count} medals\")\n"
   ]
  },
  {
   "attachments": {},
   "cell_type": "markdown",
   "metadata": {},
   "source": [
    "6. compare the characteristics of medal-winning and non-medal-winning athletes"
   ]
  },
  {
   "cell_type": "code",
   "execution_count": 39,
   "metadata": {},
   "outputs": [
    {
     "data": {
      "image/png": "[encoded data removed]",
      "text/plain": [
       "<Figure size 432x288 with 1 Axes>"
      ]
     },
     "metadata": {},
     "output_type": "display_data"
    }
   ],
   "source": [
    "# Filter the DataFrame (DataFrames for medal-winning )\n",
    "medalists_df = df[df['medal'] != 'NA']\n",
    "\n",
    "# Ccompare the age distributions between medalists :\n",
    "import matplotlib.pyplot as plt\n",
    "\n",
    "age_ranges = ['<20', '20-29', '30-39', '40-49', '50+']\n",
    "age_counts = pd.cut(medalists_df['age'], bins=[0, 20, 30, 40, 50, float('inf')], labels=age_ranges).value_counts()\n",
    "\n",
    "plt.pie(age_counts, labels=age_ranges, autopct='%1.1f%%')\n",
    "plt.title('Distribution of Medalists by Age')\n",
    "plt.axis('equal')\n",
    "plt.show()\n",
    "\n",
    "\n"
   ]
  },
  {
   "attachments": {},
   "cell_type": "markdown",
   "metadata": {},
   "source": [
    "Based on the provided results, it appears that the age distribution of medalists is as follows:\n",
    "\n",
    "- Less than 20 years old: 65.7%\n",
    "- 20-29 years old: 18.2%\n",
    "- 30-39 years old: 13.2%\n",
    "- 40-49 years old: 2.2%\n",
    "- 50 years old and above: 0.7%\n",
    "\n",
    "younger athletes tend to be more prominent among medal winners, with the majority falling below the age of 20"
   ]
  },
  {
   "attachments": {},
   "cell_type": "markdown",
   "metadata": {},
   "source": [
    "7. compare medals between genders"
   ]
  },
  {
   "cell_type": "code",
   "execution_count": 44,
   "metadata": {},
   "outputs": [
    {
     "data": {
      "image/png": "[encoded data removed]",
      "text/plain": [
       "<Figure size 432x288 with 1 Axes>"
      ]
     },
     "metadata": {},
     "output_type": "display_data"
    }
   ],
   "source": [
    "# Filter the DataFrame: Create two separate DataFrames for each gender using the \"sex\" column \n",
    "male_medalists = df[(df['sex'] == 'M') & (df['medal'] != 'NA')]\n",
    "female_medalists = df[(df['sex'] == 'F') & (df['medal'] != 'NA')]\n",
    "\n",
    "# Count the total number of medals for each gender:\n",
    "male_medal_count = male_medalists.shape[0]\n",
    "female_medal_count = female_medalists.shape[0]\n",
    "\n",
    "# Compare medals by gender using a chart, such as a bar plot:\n",
    "\n",
    "\n",
    "# Create a list of labels for the pie chart\n",
    "labels = ['Male', 'Female']\n",
    "\n",
    "# Create a list of colors for the pie chart\n",
    "colors = ['lightblue', 'lightpink']\n",
    "\n",
    "# Create a list of the total medal counts for each gender\n",
    "total_medal_counts = [total_male_medals, total_female_medals]\n",
    "\n",
    "# Plot the pie chart\n",
    "plt.pie(total_medal_counts, labels=labels, colors=colors, autopct='%1.1f%%')\n",
    "plt.title('Medal Count Comparison by Gender')\n",
    "plt.axis('equal')\n",
    "\n",
    "# Show the plot\n",
    "plt.show()\n",
    "\n",
    "\n"
   ]
  },
  {
   "attachments": {},
   "cell_type": "markdown",
   "metadata": {},
   "source": [
    "8. Create a plot visualizing the relationship between the number of athletes countries send to an event and the number of medals they receive."
   ]
  },
  {
   "cell_type": "code",
   "execution_count": 48,
   "metadata": {},
   "outputs": [
    {
     "data": {
      "image/png": "[encoded data removed]",
      "text/plain": [
       "<Figure size 432x288 with 1 Axes>"
      ]
     },
     "metadata": {
      "needs_background": "light"
     },
     "output_type": "display_data"
    }
   ],
   "source": [
    "import matplotlib.pyplot as plt\n",
    "\n",
    "# Group the DataFrame by country and count the number of athletes and medals\n",
    "country_stats = df.groupby('team').agg({'name': 'count', 'medal': lambda x: x[x != 'NA'].count()}).reset_index()\n",
    "country_stats.columns = ['Country', 'Athlete Count', 'Medal Count']\n",
    "\n",
    "# Extract the relevant data for the histogram\n",
    "athlete_count = country_stats['Athlete Count']\n",
    "medal_count = country_stats['Medal Count']\n",
    "\n",
    "# Create the histogram\n",
    "plt.hist([athlete_count, medal_count], bins=10, color=['blue', 'gold'], label=['Athlete Count', 'Medal Count'])\n",
    "plt.xlabel('Number of Athletes')\n",
    "plt.ylabel('Number of Medals')\n",
    "plt.title('Distribution of Athlete Count and Medal Count')\n",
    "plt.legend()\n",
    "\n",
    "# Show the plot\n",
    "plt.show()\n"
   ]
  },
  {
   "attachments": {},
   "cell_type": "markdown",
   "metadata": {},
   "source": [
    "9. In which sports does the height of an athlete increase their chances of earning a medal?\n"
   ]
  },
  {
   "cell_type": "code",
   "execution_count": 51,
   "metadata": {},
   "outputs": [
    {
     "data": {
      "image/png": "[encoded data removed]",
      "text/plain": [
       "<Figure size 864x432 with 1 Axes>"
      ]
     },
     "metadata": {
      "needs_background": "light"
     },
     "output_type": "display_data"
    }
   ],
   "source": [
    "# Filter the DataFrame for athletes with a known height and a medal status\n",
    "filtered_df = df[(df['height'].notnull()) & (df['medal'] != 'NA')]\n",
    "\n",
    "# Group the filtered DataFrame by sport and calculate the average height\n",
    "sport_heights = filtered_df.groupby('sport')['height'].mean().reset_index()\n",
    "\n",
    "# Sort the DataFrame by average height in descending order\n",
    "sport_heights = sport_heights.sort_values('height', ascending=False)\n",
    "\n",
    "# Create a bar plot to compare the average height by sport\n",
    "plt.figure(figsize=(12, 6))\n",
    "plt.bar(sport_heights['sport'], sport_heights['height'], color='orange', alpha=0.7)\n",
    "\n",
    "# Set labels and title\n",
    "plt.xlabel('Sport')\n",
    "plt.ylabel('Average Height (cm)')\n",
    "plt.title('Average Height of Athletes by Sport')\n",
    "\n",
    "# Rotate x-axis tick labels for better readability\n",
    "plt.xticks(rotation=90)\n",
    "\n",
    "# Show the plot\n",
    "plt.tight_layout()\n",
    "plt.show()\n"
   ]
  },
  {
   "attachments": {},
   "cell_type": "markdown",
   "metadata": {},
   "source": [
    "10. Analysis of Athletes' Performance by Season (Summer vs. Winter)"
   ]
  },
  {
   "cell_type": "code",
   "execution_count": 57,
   "metadata": {},
   "outputs": [
    {
     "data": {
      "image/png": "[encoded data removed]",
      "text/plain": [
       "<Figure size 576x432 with 1 Axes>"
      ]
     },
     "metadata": {
      "needs_background": "light"
     },
     "output_type": "display_data"
    }
   ],
   "source": [
    "\n",
    "\n",
    "# Filter the DataFrame for athletes with known medal counts and season\n",
    "filtered_df = df[(df['medal'] != 'NA') & (df['season'].isin(['Summer', 'Winter']))]\n",
    "\n",
    "# Group the filtered DataFrame by season and calculate the total medal counts\n",
    "medal_counts = filtered_df.groupby('season')['medal'].count()\n",
    "\n",
    "# Create a bar plot to compare the medal counts between Summer and Winter Games\n",
    "plt.figure(figsize=(8, 6))\n",
    "medal_counts.plot(kind='bar', color=['orange', 'blue'], alpha=0.7)\n",
    "\n",
    "# Set labels and title\n",
    "plt.xlabel('Season')\n",
    "plt.ylabel('Medal Count')\n",
    "plt.title('Comparison of Medal Counts between Summer and Winter Games')\n",
    "\n",
    "# Show the plot\n",
    "plt.tight_layout()\n",
    "plt.show()\n"
   ]
  },
  {
   "attachments": {},
   "cell_type": "markdown",
   "metadata": {},
   "source": [
    "11. analyze athletes' performance by season (Summer vs. Winter) specifically in China:"
   ]
  },
  {
   "cell_type": "code",
   "execution_count": 64,
   "metadata": {},
   "outputs": [
    {
     "data": {
      "image/png": "[encoded data removed]",
      "text/plain": [
       "<Figure size 576x432 with 1 Axes>"
      ]
     },
     "metadata": {
      "needs_background": "light"
     },
     "output_type": "display_data"
    }
   ],
   "source": [
    "\n",
    "\n",
    "# Filter the DataFrame for athletes representing China\n",
    "china_df = df[df['team'] == 'Canada']\n",
    "\n",
    "# Filter the China DataFrame for athletes with known medal counts and season\n",
    "filtered_df = china_df[(china_df['medal'] != 'NA') & (china_df['season'].isin(['Summer', 'Winter']))]\n",
    "\n",
    "# Group the filtered DataFrame by season and calculate the total medal counts\n",
    "medal_counts = filtered_df.groupby('season')['medal'].count()\n",
    "\n",
    "# Create a bar plot to compare the medal counts between Summer and Winter Games in China\n",
    "plt.figure(figsize=(8, 6))\n",
    "medal_counts.plot(kind='bar', color=['orange', 'blue'], alpha=0.7)\n",
    "\n",
    "# Set labels and title\n",
    "plt.xlabel('Season')\n",
    "plt.ylabel('Medal Count')\n",
    "plt.title('Comparison of Medal Counts between Summer and Winter Games in China')\n",
    "\n",
    "# Show the plot\n",
    "plt.tight_layout()\n",
    "plt.show()\n"
   ]
  },
  {
   "attachments": {},
   "cell_type": "markdown",
   "metadata": {},
   "source": [
    "12. Summer and Winter Games Medal Distribution :"
   ]
  },
  {
   "cell_type": "code",
   "execution_count": 96,
   "metadata": {},
   "outputs": [
    {
     "name": "stdout",
     "output_type": "stream",
     "text": [
      "In France, the game with the most medals won is 1920 Summer.\n",
      "In France, the game with the fewest medals won is 1956 Winter.\n"
     ]
    }
   ],
   "source": [
    "# Filter the dataset for France\n",
    "france_data = df[df[\"team\"] == \"France\"]\n",
    "\n",
    "# Group the filtered dataset by \"games\" and count the number of medals won\n",
    "medal_counts = france_data.groupby(\"games\")[\"medal\"].count()\n",
    "\n",
    "# Identify the game with the highest medal count\n",
    "most_medals_game = medal_counts.idxmax()\n",
    "\n",
    "# Identify the game with the lowest medal count\n",
    "least_medals_game = medal_counts.idxmin()\n",
    "\n",
    "# Print the results\n",
    "print(f\"In France, the game with the most medals won is {most_medals_game}.\")\n",
    "print(f\"In France, the game with the fewest medals won is {least_medals_game}.\")"
   ]
  },
  {
   "attachments": {},
   "cell_type": "markdown",
   "metadata": {},
   "source": [
    "13. In Egypt, the game they should not play again :"
   ]
  },
  {
   "cell_type": "code",
   "execution_count": 98,
   "metadata": {},
   "outputs": [
    {
     "name": "stdout",
     "output_type": "stream",
     "text": [
      "In Egypt, the game they should not play again is Football Men's Football.\n"
     ]
    }
   ],
   "source": [
    "\n",
    "# Filter the dataset for Egypt\n",
    "egypt_data = df[df[\"team\"] == \"Egypt\"]\n",
    "\n",
    "# Group the filtered dataset by \"games\" and count the number of medals won\n",
    "medal_counts = egypt_data.groupby(\"games\")[\"medal\"].count()\n",
    "\n",
    "# Identify the game with the fewest medal counts\n",
    "fewest_medals_game = medal_counts.idxmin()\n",
    "\n",
    "# Retrieve the name of the game\n",
    "game_name = df.loc[df[\"games\"] == fewest_medals_game, \"event\"].iloc[0]\n",
    "\n",
    "# Print the result\n",
    "print(f\"In Egypt, the game they should not play again is {game_name}.\")\n"
   ]
  }
 ],
 "metadata": {
  "kernelspec": {
   "display_name": "base",
   "language": "python",
   "name": "python3"
  },
  "language_info": {
   "codemirror_mode": {
    "name": "ipython",
    "version": 3
   },
   "file_extension": ".py",
   "mimetype": "text/x-python",
   "name": "python",
   "nbconvert_exporter": "python",
   "pygments_lexer": "ipython3",
   "version": "3.8.5"
  },
  "orig_nbformat": 4
 },
 "nbformat": 4,
 "nbformat_minor": 2
}
